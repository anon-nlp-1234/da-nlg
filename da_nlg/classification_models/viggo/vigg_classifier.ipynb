{
 "cells": [
  {
   "cell_type": "code",
   "execution_count": 39,
   "id": "b2ec3044-b5f9-4b26-a710-1d70e6fbfebf",
   "metadata": {},
   "outputs": [
    {
     "name": "stdout",
     "output_type": "stream",
     "text": [
      "INFO: Pandarallel will run on 48 workers.\n",
      "INFO: Pandarallel will use Memory file system to transfer data between the main process and workers.\n"
     ]
    }
   ],
   "source": [
    "\n",
    "import os\n",
    "\n",
    "#os.environ['HF_HOME'] = '/data/users/ugarg/hf/hf_cache/'\n",
    "os.environ['TRANSFORMERS_CACHE'] = '/data/users/ugarg/hf/hf_cache/'\n",
    "os.environ['CUDA_VISIBLE_DEVICES']='1'\n",
    "\n",
    "import pandas as pd\n",
    "import numpy as np\n",
    "import matplotlib.pyplot as plt\n",
    "import re\n",
    "from pandarallel import pandarallel\n",
    "import matplotlib.pyplot as plt\n",
    "%matplotlib inline\n",
    "import seaborn as sns\n",
    "pandarallel.initialize(progress_bar=False)\n",
    "from torch.nn.functional import one_hot\n",
    "\n",
    "\n",
    "from collections import Counter\n",
    "\n",
    "from datasets import load_dataset, Dataset, DatasetDict\n",
    "import pandas as pd\n",
    "import torch\n",
    "import numpy as np\n",
    "import random\n",
    "from transformers import AdamW, AutoTokenizer,  AutoModel\n",
    "from torch.nn.functional import one_hot\n",
    "from collections import Counter\n",
    "def seed_everything(seed: int):\n",
    "    \n",
    "    random.seed(seed)\n",
    "    os.environ['PYTHONHASHSEED'] = str(seed)\n",
    "    np.random.seed(seed)\n",
    "    torch.manual_seed(seed)\n",
    "    torch.cuda.manual_seed(seed)\n",
    "    torch.backends.cudnn.deterministic = True\n",
    "    torch.backends.cudnn.benchmark = True\n",
    "    \n",
    "seed_everything(42)\n",
    "import joblib\n",
    "\n"
   ]
  },
  {
   "cell_type": "code",
   "execution_count": 40,
   "id": "735983dd-b32a-48b8-85b8-d8c4a821343a",
   "metadata": {},
   "outputs": [],
   "source": [
    "def format_table(df):\n",
    "    df['labels'] = df['mr'].apply(lambda x: x.split('(',1)[0])\n",
    "    df = df.drop('mr', 1)\n",
    "    return df"
   ]
  },
  {
   "cell_type": "code",
   "execution_count": 41,
   "id": "7349ba9f-ec83-434e-83a0-fef376f235f6",
   "metadata": {},
   "outputs": [],
   "source": [
    "train = pd.read_csv('../data/viggo-train.csv')\n",
    "val = pd.read_csv('../data/viggo-valid.csv')\n",
    "test = pd.read_csv('../data/viggo-test.csv')\n",
    "train, test, valid = format_table(train), format_table(test), format_table(val)"
   ]
  },
  {
   "cell_type": "code",
   "execution_count": 5,
   "id": "15a09a76-35f5-4401-bba9-6ac851659f46",
   "metadata": {},
   "outputs": [
    {
     "name": "stdout",
     "output_type": "stream",
     "text": [
      "<class 'pandas.core.frame.DataFrame'>\n",
      "RangeIndex: 5103 entries, 0 to 5102\n",
      "Data columns (total 2 columns):\n",
      " #   Column  Non-Null Count  Dtype \n",
      "---  ------  --------------  ----- \n",
      " 0   ref     5103 non-null   object\n",
      " 1   labels  5103 non-null   object\n",
      "dtypes: object(2)\n",
      "memory usage: 79.9+ KB\n"
     ]
    }
   ],
   "source": [
    "train.info()"
   ]
  },
  {
   "cell_type": "code",
   "execution_count": null,
   "id": "21c069b1-983a-40bf-9449-c86c1b6cac7a",
   "metadata": {},
   "outputs": [],
   "source": [
    "train[]"
   ]
  },
  {
   "cell_type": "code",
   "execution_count": 6,
   "id": "823353db-7602-4aed-921d-4a2ec15f9634",
   "metadata": {},
   "outputs": [
    {
     "data": {
      "text/plain": [
       "inform                 2379\n",
       "give_opinion            531\n",
       "verify_attribute        531\n",
       "request                 330\n",
       "recommend               315\n",
       "request_explanation     312\n",
       "confirm                 309\n",
       "suggest                 303\n",
       "request_attribute        93\n",
       "Name: labels, dtype: int64"
      ]
     },
     "execution_count": 6,
     "metadata": {},
     "output_type": "execute_result"
    }
   ],
   "source": [
    "train.labels.value_counts()"
   ]
  },
  {
   "cell_type": "code",
   "execution_count": 7,
   "id": "1375bf52-4c0b-41d6-8ca0-fb095450ead9",
   "metadata": {},
   "outputs": [
    {
     "name": "stdout",
     "output_type": "stream",
     "text": [
      "\n",
      "Sample Data: \n",
      "--------------------------------------------------\n",
      "I was wondering, do you also like the 2010 games developed by Days of Wonder, such as Small World 2?\n",
      "suggest\n",
      "--------------------------------------------------\n",
      "--------------------------------------------------\n",
      "You mentioned disliking Dance Dance Revolution Universe 3. Are you just not about music games on Xbox?\n",
      "verify_attribute\n",
      "--------------------------------------------------\n",
      "--------------------------------------------------\n",
      "Why do you feel that the third person games made by Square are excellent?\n",
      "request_explanation\n",
      "--------------------------------------------------\n",
      "None\n"
     ]
    }
   ],
   "source": [
    "def show_sample(df, num_rows):\n",
    "    for i in range(num_rows):\n",
    "        idx = np.random.choice(len(df))\n",
    "        ref = df.loc[idx]['ref']\n",
    "        da = df.loc[idx]['labels']\n",
    "        #domain = df.loc[idx]['domain']\n",
    "        print('-'*50)\n",
    "        print(ref)\n",
    "        print(da)\n",
    "        #print(domain)\n",
    "        print('-'*50)\n",
    "\n",
    "print(\"\\nSample Data: \")\n",
    "print(show_sample(train, 3))\n"
   ]
  },
  {
   "cell_type": "code",
   "execution_count": null,
   "id": "24fdc679-175b-467c-9844-cb66ee094c78",
   "metadata": {},
   "outputs": [],
   "source": []
  },
  {
   "cell_type": "code",
   "execution_count": 8,
   "id": "d5a78e28-3c15-40b3-87ef-832cb0a3f5e8",
   "metadata": {},
   "outputs": [
    {
     "name": "stdout",
     "output_type": "stream",
     "text": [
      "\n",
      "Loading Tokenizer: bert-base-cased ...\n"
     ]
    }
   ],
   "source": [
    "\n",
    "DROPOUT = 0.3\n",
    "LEARNING_RATE = 1e-4\n",
    "NUM_EPOCHS = 50\n",
    "MAX_LENGTH = 100\n",
    "BATCH_SIZE = 64\n",
    "EARLY_STOPPING_LIMIT = 5\n",
    "DEVICE = 'cuda:0'\n",
    "\n",
    "save_checkpoint_path = 'checkpoints/best_model.pt'\n",
    "resume_from_checkpoint = True\n",
    "\n",
    "\n",
    "\n",
    "\n",
    "##################\n",
    "#   tokenizer\n",
    "##################\n",
    "\n",
    "\n",
    "from transformers import AutoTokenizer\n",
    "\n",
    "model_checkpoint = \"bert-base-cased\"\n",
    "print(f'\\nLoading Tokenizer: {model_checkpoint} ...')\n",
    "tokenizer = AutoTokenizer.from_pretrained(model_checkpoint)\n",
    "\n"
   ]
  },
  {
   "cell_type": "code",
   "execution_count": null,
   "id": "769c64b8-9dad-4836-b449-5ed89643b2d7",
   "metadata": {},
   "outputs": [],
   "source": []
  },
  {
   "cell_type": "code",
   "execution_count": 9,
   "id": "84b8a02c-27a6-4bc1-903c-03806aa957da",
   "metadata": {},
   "outputs": [
    {
     "name": "stdout",
     "output_type": "stream",
     "text": [
      "\n",
      "Creating Pytorch Datasets and Loaders...\n",
      "\n",
      "Keeping max length: 100\n",
      "Batch Size: 64\n"
     ]
    }
   ],
   "source": [
    "\n",
    "\n",
    "####################################\n",
    "#   Create Pytorch Datasets\n",
    "####################################\n",
    "\n",
    "class TrainDataset:\n",
    "    def __init__(self, train, tokenizer, max_length):\n",
    "        self.train = train\n",
    "        self.tokenizer = tokenizer\n",
    "        self.source_column = 'ref'\n",
    "        self.label_column = 'labels'\n",
    "        self.max_length = max_length\n",
    "        self.build_vocab()\n",
    "    \n",
    "    def __len__(self):\n",
    "        return len(self.train)\n",
    "    \n",
    "    def build_vocab(self,):\n",
    "         #get vocab\n",
    "        self.stoi = {'request': 0,\n",
    "                     'inform': 1,\n",
    "                     'suggest': 2,\n",
    "                     'request_attribute': 3,\n",
    "                     'verify_attribute': 4,\n",
    "                     'confirm': 5,\n",
    "                     'give_opinion': 6,\n",
    "                     'request_explanation': 7,\n",
    "                     'recommend': 8}\n",
    "        self.itos = {j:i for i,j in self.stoi.items()}\n",
    "        \n",
    "        self.num_class = len(self.itos)\n",
    "        \n",
    "        \n",
    "    def __getitem__(self, idx):\n",
    "        tokenized_source_text = self.tokenizer(self.train[self.source_column].loc[idx], truncation=True, padding=True, max_length = self.max_length)\n",
    "        label = self.stoi[self.train[self.label_column][idx]]\n",
    "        #one_hot_labels = one_hot(torch.tensor(label), num_classes = self.num_class)\n",
    "        tokenized_source_text['label'] = label\n",
    "        return tokenized_source_text\n",
    "\n",
    "    \n",
    "class ValDataset:\n",
    "    def __init__(self, train_dataset, val, tokenizer, max_length):\n",
    "        self.stoi = train_dataset.stoi\n",
    "        self.itos = train_dataset.itos\n",
    "        self.num_class = len(self.stoi)\n",
    "        self.val = val\n",
    "        self.tokenizer = tokenizer\n",
    "        self.source_column = 'ref'\n",
    "        self.label_column = 'labels'\n",
    "        self.max_length = max_length\n",
    "    def __len__(self):\n",
    "        return len(self.val)\n",
    "\n",
    "        \n",
    "    def __getitem__(self, idx):\n",
    "        tokenized_source_text = self.tokenizer(self.val[self.source_column].loc[idx], truncation=True, padding=True, max_length = self.max_length)\n",
    "        label = self.stoi[self.val[self.label_column][idx]]\n",
    "        tokenized_source_text['label'] = label\n",
    "        return tokenized_source_text\n",
    "        \n",
    "        \n",
    "print(f'\\nCreating Pytorch Datasets and Loaders...')\n",
    "\n",
    "print(f'\\nKeeping max length: {MAX_LENGTH}\\nBatch Size: {BATCH_SIZE}')\n",
    "\n"
   ]
  },
  {
   "cell_type": "code",
   "execution_count": 10,
   "id": "f78ca1c0-6a07-4609-a41e-43a2a04b8c90",
   "metadata": {},
   "outputs": [],
   "source": [
    "\n",
    "train_dataset = TrainDataset(train, tokenizer, max_length = MAX_LENGTH)\n",
    "val_dataset = ValDataset(train_dataset, val, tokenizer, max_length = MAX_LENGTH)\n",
    "test_dataset = ValDataset(train_dataset, test, tokenizer, max_length = MAX_LENGTH)\n"
   ]
  },
  {
   "cell_type": "code",
   "execution_count": 11,
   "id": "0a52fca4-07de-41b7-8371-73cdef0c6b3c",
   "metadata": {},
   "outputs": [
    {
     "data": {
      "text/plain": [
       "{0: 'request',\n",
       " 1: 'inform',\n",
       " 2: 'suggest',\n",
       " 3: 'request_attribute',\n",
       " 4: 'verify_attribute',\n",
       " 5: 'confirm',\n",
       " 6: 'give_opinion',\n",
       " 7: 'request_explanation',\n",
       " 8: 'recommend'}"
      ]
     },
     "execution_count": 11,
     "metadata": {},
     "output_type": "execute_result"
    }
   ],
   "source": [
    "train_dataset.itos"
   ]
  },
  {
   "cell_type": "code",
   "execution_count": 12,
   "id": "6e8161dc-e1ca-40b0-9a07-c1cebc8209e4",
   "metadata": {},
   "outputs": [
    {
     "data": {
      "text/plain": [
       "{'request': 0,\n",
       " 'inform': 1,\n",
       " 'suggest': 2,\n",
       " 'request_attribute': 3,\n",
       " 'verify_attribute': 4,\n",
       " 'confirm': 5,\n",
       " 'give_opinion': 6,\n",
       " 'request_explanation': 7,\n",
       " 'recommend': 8}"
      ]
     },
     "execution_count": 12,
     "metadata": {},
     "output_type": "execute_result"
    }
   ],
   "source": [
    "train_dataset.stoi"
   ]
  },
  {
   "cell_type": "code",
   "execution_count": 13,
   "id": "2b4de6d6-dfeb-4d1e-bbe7-9c8c6d4fafb8",
   "metadata": {},
   "outputs": [
    {
     "name": "stdout",
     "output_type": "stream",
     "text": [
      "\n",
      "Shape of batch:  torch.Size([64, 73])\n"
     ]
    }
   ],
   "source": [
    "\n",
    "from torch.nn.utils.rnn import pad_sequence\n",
    "from torch.utils.data import DataLoader\n",
    "from transformers import DataCollatorWithPadding\n",
    "\n",
    "data_collator = DataCollatorWithPadding(tokenizer=tokenizer)\n",
    "\n",
    "train_dataloader = DataLoader(\n",
    "    train_dataset,\n",
    "    shuffle=True,\n",
    "    collate_fn = data_collator,\n",
    "    batch_size=BATCH_SIZE,\n",
    ")\n",
    "val_dataloader = DataLoader(\n",
    "    val_dataset, collate_fn = data_collator, batch_size=BATCH_SIZE\n",
    ")\n",
    "\n",
    "test_dataloader = DataLoader(\n",
    "    test_dataset, collate_fn = data_collator, batch_size=BATCH_SIZE\n",
    ")\n",
    "\n",
    "print(\"\\nShape of batch: \", next(iter(train_dataloader))['input_ids'].shape)"
   ]
  },
  {
   "cell_type": "code",
   "execution_count": 14,
   "id": "c6786bb5-40e6-46b6-aba8-4c97f6debbf0",
   "metadata": {},
   "outputs": [],
   "source": [
    "\n",
    "\n",
    "####################################\n",
    "#   Create Model Class\n",
    "####################################\n",
    "\n",
    "\n",
    "class Model(torch.nn.Module):\n",
    "    def __init__(self, model_checkpoint, train_dataset, dropout, device):\n",
    "        super().__init__()\n",
    "        self.base = AutoModel.from_pretrained(\n",
    "                model_checkpoint,\n",
    "                #id2label=id2label,\n",
    "                #label2id=label2id,\n",
    "                )\n",
    "        \"\"\"\n",
    "        Uncomment if want to use adapter\n",
    "        #         self.base.add_adapter('adap')\n",
    "\n",
    "        #         self.base.train_adapter(\"adap\")\n",
    "        #         self.base.set_active_adapters(\"adap\")\n",
    "\n",
    "        Uncomment if want to unfreeze specific layers\n",
    "                # c = 0\n",
    "                # for name, param in self.base.named_parameters():\n",
    "                #     c+=1\n",
    "                #     if c <= 100:\n",
    "                #         param.requires_grad = False\n",
    "\n",
    "        \"\"\"\n",
    "        self.stoi = train_dataset.stoi\n",
    "        self.itos = train_dataset.itos\n",
    "        self.device = device\n",
    "        self.fc = torch.nn.Linear(self.base.config.hidden_size, len(self.stoi))\n",
    "        \n",
    "        self.dropout = torch.nn.Dropout(dropout)\n",
    "        self.loss_fn = torch.nn.CrossEntropyLoss()    \n",
    "        \n",
    "        \n",
    "        \n",
    "    \n",
    "    def forward(self, batch, mode = 'Train'):\n",
    "        batch.to(self.device)\n",
    "        self.base.to(self.device)\n",
    "        self.fc.to(self.device)\n",
    "        _ , pools = self.base(input_ids=batch['input_ids'],\n",
    "                      attention_mask=batch['attention_mask'],\n",
    "                      token_type_ids=batch['token_type_ids'],\n",
    "                       return_dict=False)\n",
    "        # print(hidden.shape)\n",
    "        # print(pools.shape)\n",
    "\n",
    "        if mode == 'Train':\n",
    "            \n",
    "            out = self.fc(self.dropout(pools))\n",
    "\n",
    "            actual = batch['labels']\n",
    "            loss = self.loss_fn(out, actual)\n",
    "\n",
    "            return loss, out, actual\n",
    "        else:\n",
    "            \n",
    "            out = self.fc(self.dropout(pools))\n",
    "            return out\n",
    "\n",
    "\n"
   ]
  },
  {
   "cell_type": "code",
   "execution_count": 15,
   "id": "e60f9f14-332d-4ebe-8619-4fcb71db9857",
   "metadata": {},
   "outputs": [
    {
     "name": "stdout",
     "output_type": "stream",
     "text": [
      "\n",
      "Using device cuda:0 for training...\n"
     ]
    },
    {
     "name": "stderr",
     "output_type": "stream",
     "text": [
      "Some weights of the model checkpoint at bert-base-cased were not used when initializing BertModel: ['cls.predictions.bias', 'cls.seq_relationship.weight', 'cls.predictions.transform.LayerNorm.bias', 'cls.predictions.transform.dense.bias', 'cls.predictions.transform.LayerNorm.weight', 'cls.predictions.transform.dense.weight', 'cls.predictions.decoder.weight', 'cls.seq_relationship.bias']\n",
      "- This IS expected if you are initializing BertModel from the checkpoint of a model trained on another task or with another architecture (e.g. initializing a BertForSequenceClassification model from a BertForPreTraining model).\n",
      "- This IS NOT expected if you are initializing BertModel from the checkpoint of a model that you expect to be exactly identical (initializing a BertForSequenceClassification model from a BertForSequenceClassification model).\n"
     ]
    },
    {
     "name": "stdout",
     "output_type": "stream",
     "text": [
      "\n",
      "Creating optimizer with Learning Rate: 0.0001\n"
     ]
    }
   ],
   "source": [
    "\n",
    "####################################\n",
    "#   Load Model\n",
    "####################################\n",
    "\n",
    "print(f'\\nUsing device {DEVICE} for training...')\n",
    "\n",
    "model = Model(model_checkpoint, train_dataset, DROPOUT, DEVICE)\n",
    "model.to(DEVICE)\n",
    "\n",
    "####################################\n",
    "#   Create Optimizer\n",
    "####################################\n",
    "print(f'\\nCreating optimizer with Learning Rate: {LEARNING_RATE}')\n",
    "\n",
    "from torch.optim import AdamW, Adam\n",
    "\n",
    "optimizer = AdamW(model.parameters(), lr=LEARNING_RATE)"
   ]
  },
  {
   "cell_type": "code",
   "execution_count": 16,
   "id": "56a66b8e-b138-456b-b2d2-a80b20b99406",
   "metadata": {},
   "outputs": [],
   "source": [
    "# # In[8]:\n",
    "\n",
    "\n",
    "\n",
    "\n",
    "# from transformers import get_scheduler, get_cosine_with_hard_restarts_schedule_with_warmup\n",
    "# print(f'\\nTraining for {NUM_EPOCHS} epochs with early stopping set to {EARLY_STOPPING_LIMIT}\\n\\n')\n",
    "\n",
    "# num_train_epochs = NUM_EPOCHS\n",
    "# num_update_steps_per_epoch = len(train_dataloader)\n",
    "# num_training_steps = num_train_epochs * num_update_steps_per_epoch\n",
    "\n",
    "# # lr_scheduler = get_scheduler(\n",
    "# #     \"linear\",\n",
    "# #     optimizer=optimizer,\n",
    "# #     num_warmup_steps=500,\n",
    "# #     num_training_steps=num_training_steps,\n",
    "# # )\n",
    "# lr_scheduler = get_cosine_with_hard_restarts_schedule_with_warmup(\n",
    "#     optimizer=optimizer,\n",
    "#     num_warmup_steps=500,\n",
    "#     num_training_steps=num_training_steps,\n",
    "# )\n",
    "\n",
    "\n",
    "# # In[9]:\n",
    "\n",
    "\n",
    "# ####################################\n",
    "# #   Create Checkpoint Builder\n",
    "# ####################################\n",
    "\n",
    "# def checkpoint_builder(model, optimizer, epoch, train_dataset, save_checkpoint_path):\n",
    "#     \"\"\"\n",
    "#     desc:\n",
    "#         creates checkpoint for the model\n",
    "#     params:\n",
    "#         model: trained model\n",
    "#         optimizer\n",
    "#         criterion: loss fn\n",
    "#         epoch: checkpoint epoch\n",
    "#         model_params: hyperparams of model\n",
    "#         data_module: object of DataModule => contains the datasets and vocabulary\n",
    "#         save_checkpoint_path: path to save checkpoint. Include checkpoint name\n",
    "#     \"\"\"\n",
    "    \n",
    "#     torch.save({'model_state_dict': model.state_dict(),\n",
    "#                         'optim_state_dict':optimizer.state_dict(),\n",
    "                        \n",
    "#                         'epoch': epoch, \n",
    "                        \n",
    "#                         'source_stoi': train_dataset.stoi,\n",
    "#                         'source_itos': train_dataset.itos,\n",
    "#                        }, save_checkpoint_path)\n",
    "\n",
    "\n",
    "# # In[10]:\n",
    "\n",
    "\n",
    "\n",
    "\n",
    "# from tqdm.auto import tqdm\n",
    "# import torch\n",
    "\n",
    "# progress_bar = tqdm(range(num_training_steps))\n",
    "# early_stopping_counter = 0\n",
    "# early_stopping_limit = EARLY_STOPPING_LIMIT\n",
    "# best_valid_loss = float('inf')\n",
    "# for epoch in range(num_train_epochs):\n",
    "#     train_loss=0\n",
    "#     valid_loss =0\n",
    "    \n",
    "\n",
    "    \n",
    "#     print(f\"[Epoch {epoch} / {num_train_epochs}]\")\n",
    "#     # Training\n",
    "#     model.train()\n",
    "#     for batch_idx, batch in enumerate(train_dataloader):\n",
    "#         loss, out, actual = model(batch)\n",
    "#         #loss = outputs.loss\n",
    "#         loss.backward(loss)#, retain_graph = True)\n",
    "\n",
    "#         optimizer.step()\n",
    "#         lr_scheduler.step()\n",
    "#         optimizer.zero_grad()\n",
    "#         train_loss+= ((1 / (batch_idx + 1)) * (loss.data.item() - train_loss))\n",
    "#         progress_bar.update(1)\n",
    "#         progress_bar.set_postfix(loss = train_loss)\n",
    "        \n",
    "    \n",
    "    \n",
    "#     # Evaluation\n",
    "#     model.eval()\n",
    "#     for batch in val_dataloader:\n",
    "#         with torch.no_grad():\n",
    "#             loss, out, actual = model(batch)\n",
    "\n",
    "\n",
    "#         labels = actual\n",
    "#         predictions = out\n",
    "        \n",
    "\n",
    "#         valid_loss+= ((1 / (batch_idx + 1)) * (loss.data.item() - valid_loss))\n",
    "        \n",
    "\n",
    "#     print('\\nEpoch: {} \\tTraining Loss: {:.6f} \\tValidation Loss: {:.6f}'.format(\n",
    "#             epoch, \n",
    "#             train_loss,\n",
    "#             valid_loss\n",
    "#             ))\n",
    "\n",
    "#     #early stopping, checkpointing\n",
    "#     if valid_loss < best_valid_loss:\n",
    "#         early_stopping_counter = 0\n",
    "#         best_valid_loss = valid_loss\n",
    "#         #create checkpoint\n",
    "#         print(\"Loss improved saving checkpoint... \")\n",
    "#         checkpoint_builder(model, optimizer, epoch, train_dataset, save_checkpoint_path)\n",
    "\n",
    "#     else:\n",
    "#         early_stopping_counter += 1\n",
    "#         if early_stopping_counter >= early_stopping_limit:\n",
    "#             print(f'\\nLoss did not reduce for last {early_stopping_counter} epochs. Stopped training..')\n",
    "#             break\n",
    "\n",
    "\n",
    "# # In[ ]:\n",
    "\n",
    "\n",
    "\n"
   ]
  },
  {
   "cell_type": "code",
   "execution_count": 17,
   "id": "2dd85158-f8ab-4e19-86a4-090cd53d7220",
   "metadata": {},
   "outputs": [
    {
     "name": "stdout",
     "output_type": "stream",
     "text": [
      "Loading Checkpoint ...\n",
      "Setting Models state to checkpoint...\n",
      "Model state set.\n",
      "Optimizer state set.\n"
     ]
    }
   ],
   "source": [
    "\n",
    "\n",
    "# ### Testing\n",
    "\n",
    "# In[ ]:\n",
    "\n",
    "\n",
    "\n",
    "if resume_from_checkpoint:\n",
    "        print('Loading Checkpoint ...')\n",
    "        checkpoint = torch.load(save_checkpoint_path, map_location=DEVICE)\n",
    "        source_stoi = checkpoint['source_stoi']\n",
    "        source_itos = checkpoint['source_itos']                \n",
    "        print('Setting Models state to checkpoint...')\n",
    "        #assert checkpoint['model_params'] == model_params\n",
    "        model.load_state_dict(checkpoint['model_state_dict'])\n",
    "        print('Model state set.')\n",
    "        optimizer.load_state_dict(checkpoint['optim_state_dict'])\n",
    "        print('Optimizer state set.')\n"
   ]
  },
  {
   "cell_type": "code",
   "execution_count": 18,
   "id": "1303b24d-57fa-4282-8fce-26f31be7bb73",
   "metadata": {},
   "outputs": [
    {
     "data": {
      "text/plain": [
       "{'request': 0,\n",
       " 'inform': 1,\n",
       " 'suggest': 2,\n",
       " 'request_attribute': 3,\n",
       " 'verify_attribute': 4,\n",
       " 'confirm': 5,\n",
       " 'give_opinion': 6,\n",
       " 'request_explanation': 7,\n",
       " 'recommend': 8}"
      ]
     },
     "execution_count": 18,
     "metadata": {},
     "output_type": "execute_result"
    }
   ],
   "source": [
    "source_stoi"
   ]
  },
  {
   "cell_type": "code",
   "execution_count": 19,
   "id": "f99c09bf-19b2-49c1-b0b4-3c91128182a7",
   "metadata": {},
   "outputs": [
    {
     "data": {
      "text/plain": [
       "['request',\n",
       " 'inform',\n",
       " 'suggest',\n",
       " 'request_attribute',\n",
       " 'verify_attribute',\n",
       " 'confirm',\n",
       " 'give_opinion',\n",
       " 'request_explanation',\n",
       " 'recommend']"
      ]
     },
     "execution_count": 19,
     "metadata": {},
     "output_type": "execute_result"
    }
   ],
   "source": [
    "list(source_stoi.keys())"
   ]
  },
  {
   "cell_type": "code",
   "execution_count": 20,
   "id": "9e64a993-7a1f-4c3c-8c15-69679578f694",
   "metadata": {},
   "outputs": [
    {
     "data": {
      "text/plain": [
       "{'request': 0,\n",
       " 'inform': 1,\n",
       " 'suggest': 2,\n",
       " 'request_attribute': 3,\n",
       " 'verify_attribute': 4,\n",
       " 'confirm': 5,\n",
       " 'give_opinion': 6,\n",
       " 'request_explanation': 7,\n",
       " 'recommend': 8}"
      ]
     },
     "execution_count": 20,
     "metadata": {},
     "output_type": "execute_result"
    }
   ],
   "source": [
    "train_dataset.stoi"
   ]
  },
  {
   "cell_type": "code",
   "execution_count": 21,
   "id": "48fe1c11-297b-4d7e-84f0-56fe3f95ab72",
   "metadata": {},
   "outputs": [
    {
     "data": {
      "text/plain": [
       "{'input_ids': [101, 12120, 3740, 131, 3237, 5455, 1110, 170, 4799, 3915, 1342, 1115, 1108, 1308, 1107, 1368, 119, 1109, 1342, 1110, 1907, 1113, 8905, 117, 12335, 117, 1105, 7054, 117, 1105, 1122, 1144, 1126, 142, 16396, 2064, 21632, 1158, 1104, 142, 1275, 116, 113, 1111, 6064, 1275, 1105, 26694, 114, 119, 1438, 117, 1122, 1110, 1136, 1870, 1907, 1112, 170, 15144, 117, 11735, 117, 1137, 6603, 1836, 119, 102], 'token_type_ids': [0, 0, 0, 0, 0, 0, 0, 0, 0, 0, 0, 0, 0, 0, 0, 0, 0, 0, 0, 0, 0, 0, 0, 0, 0, 0, 0, 0, 0, 0, 0, 0, 0, 0, 0, 0, 0, 0, 0, 0, 0, 0, 0, 0, 0, 0, 0, 0, 0, 0, 0, 0, 0, 0, 0, 0, 0, 0, 0, 0, 0, 0, 0, 0, 0, 0, 0, 0], 'attention_mask': [1, 1, 1, 1, 1, 1, 1, 1, 1, 1, 1, 1, 1, 1, 1, 1, 1, 1, 1, 1, 1, 1, 1, 1, 1, 1, 1, 1, 1, 1, 1, 1, 1, 1, 1, 1, 1, 1, 1, 1, 1, 1, 1, 1, 1, 1, 1, 1, 1, 1, 1, 1, 1, 1, 1, 1, 1, 1, 1, 1, 1, 1, 1, 1, 1, 1, 1, 1], 'label': 1}"
      ]
     },
     "execution_count": 21,
     "metadata": {},
     "output_type": "execute_result"
    }
   ],
   "source": [
    "train_dataset[1]"
   ]
  },
  {
   "cell_type": "code",
   "execution_count": 22,
   "id": "56e045bd-0630-48c9-a1aa-58d3ea859737",
   "metadata": {},
   "outputs": [
    {
     "name": "stdout",
     "output_type": "stream",
     "text": [
      "\n",
      "Validation Results:\n",
      "Accuracy: 0.9957983193277311\n",
      "                     precision    recall  f1-score   support\n",
      "\n",
      "            request       0.98      1.00      0.99        45\n",
      "             inform       1.00      1.00      1.00       297\n",
      "            suggest       1.00      0.98      0.99        45\n",
      "  request_attribute       1.00      0.95      0.98        21\n",
      "   verify_attribute       0.98      1.00      0.99        81\n",
      "            confirm       1.00      1.00      1.00        51\n",
      "       give_opinion       1.00      1.00      1.00        84\n",
      "request_explanation       1.00      1.00      1.00        39\n",
      "          recommend       1.00      0.98      0.99        51\n",
      "\n",
      "           accuracy                           1.00       714\n",
      "          macro avg       0.99      0.99      0.99       714\n",
      "       weighted avg       1.00      1.00      1.00       714\n",
      "\n"
     ]
    },
    {
     "data": {
      "image/png": "[encoded data removed]",
      "text/plain": [
       "<Figure size 432x288 with 2 Axes>"
      ]
     },
     "metadata": {
      "needs_background": "light"
     },
     "output_type": "display_data"
    },
    {
     "name": "stdout",
     "output_type": "stream",
     "text": [
      "\n",
      "Test Results:\n",
      "Accuracy: 0.9879963065558633\n",
      "                     precision    recall  f1-score   support\n",
      "\n",
      "            request       0.96      0.99      0.97        75\n",
      "             inform       0.99      1.00      0.99       324\n",
      "            suggest       0.99      1.00      1.00       102\n",
      "  request_attribute       0.97      0.94      0.96        36\n",
      "   verify_attribute       1.00      1.00      1.00       138\n",
      "            confirm       1.00      1.00      1.00        90\n",
      "       give_opinion       0.99      0.97      0.98       135\n",
      "request_explanation       0.97      0.99      0.98        99\n",
      "          recommend       1.00      0.95      0.98        84\n",
      "\n",
      "           accuracy                           0.99      1083\n",
      "          macro avg       0.99      0.98      0.98      1083\n",
      "       weighted avg       0.99      0.99      0.99      1083\n",
      "\n"
     ]
    },
    {
     "data": {
      "image/png": "[encoded data removed]",
      "text/plain": [
       "<Figure size 432x288 with 2 Axes>"
      ]
     },
     "metadata": {
      "needs_background": "light"
     },
     "output_type": "display_data"
    }
   ],
   "source": [
    "\n",
    "\n",
    "\n",
    "\n",
    "#prints the examples that were wrongly predicted\n",
    "#prints the Accuracy and returns it\n",
    "#print the classification report\n",
    "def get_accuracy(dataloader, print_errors = False):\n",
    "    acc = []\n",
    "    preds = []\n",
    "    acts = []\n",
    "    for batch_idx, batch in enumerate(dataloader):\n",
    "        \n",
    "        _, out, actual = model(batch)\n",
    "        out = torch.argmax(out, axis = 1)\n",
    "        out = out.cpu().numpy()\n",
    "        actual = actual.cpu().numpy()\n",
    "        \n",
    "        acc.append([i == j for i, j in zip(out,actual)])\n",
    "        preds.append(out.tolist())\n",
    "        acts.append(actual.tolist())\n",
    "        del(out, actual,_,batch)\n",
    "    \n",
    "    print(f'Accuracy: {np.mean(sum(acc,[]))}')\n",
    "    \n",
    "    from sklearn.metrics import classification_report\n",
    "\n",
    "    label_names = list(source_stoi.keys())\n",
    "    print(classification_report(sum(acts,[]), sum(preds,[]),target_names=label_names))\n",
    "    from sklearn.metrics import confusion_matrix\n",
    "    from sklearn.metrics import ConfusionMatrixDisplay\n",
    "    dis = ConfusionMatrixDisplay(confusion_matrix(sum(acts,[]), sum(preds,[])), display_labels=label_names)\n",
    "    dis.plot(xticks_rotation=90)\n",
    "    plt.show()\n",
    "    \n",
    "\n",
    "# In[15]:\n",
    "#model.eval()\n",
    "# model.to(DEVICE)\n",
    "print('\\nValidation Results:')\n",
    "get_accuracy(val_dataloader, print_errors = True)\n",
    "print('\\nTest Results:')\n",
    "get_accuracy(test_dataloader)\n",
    "\n",
    "\n",
    "\n",
    "\n",
    "\n",
    "\n"
   ]
  },
  {
   "cell_type": "code",
   "execution_count": 23,
   "id": "1d0e498d-3206-4d2a-a699-75bc6c00d785",
   "metadata": {},
   "outputs": [],
   "source": [
    "# prompt_df = pd.read_csv('../test_files/GPT-NEO_viggo_test_2DA_100 - GPT-NEO_viggo_test_2DA_100.csv')\n",
    "\n",
    "# prompt_df = prompt_df[['MR', 'Candiate','best ref','is it related to DA']].dropna().reset_index(drop=True)\n",
    "\n",
    "# prompt_df.columns = ['mr', 'candidate', 'best_ref', 'related']\n",
    "\n",
    "# def predict(col):\n",
    "#     df = prompt_df.copy()\n",
    "#     tokenized_data = tokenizer(df[col].values.tolist())\n",
    "#     tokenized_data = data_collator(tokenized_data)\n",
    "\n",
    "#     out = model(tokenized_data, mode = 'Test')\n",
    "#     probs = torch.nn.functional.softmax(out, dim = 1).detach().cpu().numpy()\n",
    "#     pred = out.argmax(dim = 1).cpu().numpy()\n",
    "#     pred = [train_dataset.itos[i] for i in pred]\n",
    "#     probs = [i.max() for i in probs]\n",
    "\n",
    "#     df[f'{col}_pred'] = 1\n",
    "#     df[f'{col}_prob'] = 1\n",
    "#     for i in range(len(df)):\n",
    "#         df.loc[i,f'{col}_pred'] = pred[i]\n",
    "#         df.loc[i,f'{col}_prob'] = probs[i]\n",
    "#     return df\n",
    "\n",
    "# prompt_df = predict('candidate')\n",
    "# prompt_df = predict('best_ref')\n",
    "# prompt_df['actual'] = prompt_df['mr'].apply(lambda x: x.split('|')[0].split('=')[0].strip())\n",
    "\n",
    "# print(prompt_df.apply(lambda x: 1 if x['candidate_pred'] == x['actual'] else 0,axis=1).value_counts())\n",
    "\n",
    "# prompt_df.to_csv('GPT-NEO_viggo_test_2DA_100_da_predictions.csv')"
   ]
  },
  {
   "cell_type": "code",
   "execution_count": 24,
   "id": "5be9ce84-dfed-4f8e-9059-b72fd4b099fe",
   "metadata": {},
   "outputs": [],
   "source": [
    "# prompt_df['check'] = prompt_df.candidate.apply(lambda x: 1 if 'did' in x else 0)"
   ]
  },
  {
   "cell_type": "code",
   "execution_count": 25,
   "id": "c0c4b439-bef8-46d3-8011-342310f2eacc",
   "metadata": {},
   "outputs": [],
   "source": [
    "# prompt_df[prompt_df.check==1]"
   ]
  },
  {
   "cell_type": "code",
   "execution_count": 26,
   "id": "051f507c-a210-4305-92f2-f086136105e6",
   "metadata": {},
   "outputs": [],
   "source": [
    "# prompt_df = pd.read_csv('../test_files/viggo-test-specific-10examples-new-format-1-100 - viggo-test-specific-10examples-1-100.csv')\n",
    "\n",
    "# prompt_df = prompt_df[['MR', 'Candidate','best ref',' DA (perfect  3, 2, 1 means not really at all)']].dropna().reset_index(drop=True)\n",
    "\n",
    "# prompt_df.columns = ['mr', 'candidate', 'best_ref', 'related']\n",
    "\n",
    "# def predict(col):\n",
    "#     df = prompt_df.copy()\n",
    "#     tokenized_data = tokenizer(df[col].values.tolist())\n",
    "#     tokenized_data = data_collator(tokenized_data)\n",
    "\n",
    "#     out = model(tokenized_data, mode = 'Test')\n",
    "#     probs = torch.nn.functional.softmax(out, dim = 1).detach().cpu().numpy()\n",
    "#     pred = out.argmax(dim = 1).cpu().numpy()\n",
    "#     pred = [train_dataset.itos[i] for i in pred]\n",
    "#     probs = [i.max() for i in probs]\n",
    "\n",
    "#     df[f'{col}_pred'] = 1\n",
    "#     df[f'{col}_prob'] = 1\n",
    "#     for i in range(len(df)):\n",
    "#         df.loc[i,f'{col}_pred'] = pred[i]\n",
    "#         df.loc[i,f'{col}_prob'] = probs[i]\n",
    "#     return df\n",
    "\n",
    "# prompt_df = predict('candidate')\n",
    "# prompt_df = predict('best_ref')\n",
    "# prompt_df['actual'] = prompt_df['mr'].apply(lambda x: x.split('|')[0].split('=')[0].split(':')[1].strip())\n",
    "# print(prompt_df.apply(lambda x: 1 if x['candidate_pred'] == x['actual'] else 0,axis=1).value_counts())\n",
    "# prompt_df.to_csv('viggo-test-specific-10examples-new-format-1-100 - viggo-test-specific-10examples-1-100.csv')"
   ]
  },
  {
   "cell_type": "code",
   "execution_count": 27,
   "id": "170a3ab1-db48-4c3f-a76e-f26f9bc7d569",
   "metadata": {},
   "outputs": [],
   "source": [
    "# prompt_df.related.value_counts()"
   ]
  },
  {
   "cell_type": "code",
   "execution_count": 28,
   "id": "cad99142-2228-40dc-8d6f-40d43be64f58",
   "metadata": {},
   "outputs": [],
   "source": [
    "# print(prompt_df.apply(lambda x: 1 if x['candidate_pred'] == x['actual'] else 0,axis=1).value_counts())"
   ]
  },
  {
   "cell_type": "code",
   "execution_count": 29,
   "id": "f1912815-1a42-49d2-82dc-0adf7d6018e5",
   "metadata": {},
   "outputs": [],
   "source": [
    "# print(prompt_df.apply(lambda x: 1 if x['candidate_pred'] == x['actual'] and x['related']!=3 else 0,axis=1).value_counts())"
   ]
  },
  {
   "cell_type": "code",
   "execution_count": 30,
   "id": "f661c8fe-fc1d-4e57-a8be-17beb1af592a",
   "metadata": {},
   "outputs": [],
   "source": [
    "# prompt_df = pd.read_csv('../test_files/viggo_test_5_shuffle_output - cc-clean.csv')\n",
    "\n",
    "# prompt_df = prompt_df[['mr', 'generated']].reset_index(drop=True)\n",
    "\n",
    "# prompt_df.columns = ['mr', 'candidate']\n",
    "\n",
    "# def predict(col):\n",
    "#     df = prompt_df.copy()\n",
    "#     tokenized_data = tokenizer(df[col].values.tolist())\n",
    "#     tokenized_data = data_collator(tokenized_data)\n",
    "\n",
    "#     out = model(tokenized_data, mode = 'Test')\n",
    "#     probs = torch.nn.functional.softmax(out, dim = 1).detach().cpu().numpy()\n",
    "#     pred = out.argmax(dim = 1).cpu().numpy()\n",
    "#     pred = [train_dataset.itos[i] for i in pred]\n",
    "#     probs = [i.max() for i in probs]\n",
    "\n",
    "#     df[f'{col}_pred'] = 1\n",
    "#     df[f'{col}_prob'] = 1\n",
    "#     for i in range(len(df)):\n",
    "#         df.loc[i,f'{col}_pred'] = pred[i]\n",
    "#         df.loc[i,f'{col}_prob'] = probs[i]\n",
    "#     return df\n",
    "\n",
    "# prompt_df = predict('candidate')\n",
    "# #prompt_df = predict('best_ref')\n",
    "# prompt_df['actual'] = prompt_df['mr'].apply(lambda x: x.split('|')[0].split('=')[0].strip())\n",
    "# print(prompt_df.apply(lambda x: 1 if x['candidate_pred'] == x['actual'] else 0,axis=1).value_counts())\n",
    "# prompt_df.to_csv('viggo_test_5_shuffle_output - cc-clean.csv')"
   ]
  },
  {
   "cell_type": "code",
   "execution_count": 31,
   "id": "42d391e2-850b-4fb0-afb7-17986b87433c",
   "metadata": {},
   "outputs": [],
   "source": [
    "# prompt_df.apply(lambda x: 1 if x['candidate_pred'] == x['actual'] else 0, axis=1).value_counts()"
   ]
  },
  {
   "cell_type": "code",
   "execution_count": 32,
   "id": "ab0c2c73-98b2-4516-8a82-1b258b9d9bcf",
   "metadata": {},
   "outputs": [],
   "source": [
    "# prompt_df[['mr', 'candidate_pred', 'candidate_prob']].to_csv('viggo_test_5_shuffle_output - cc-clean.csv')"
   ]
  },
  {
   "cell_type": "code",
   "execution_count": 33,
   "id": "aef98f22-e12b-4253-b892-cf1815f9ee37",
   "metadata": {},
   "outputs": [],
   "source": [
    "# prompt_df = pd.read_csv('../test_files/viggo_test_5_shuffle_output - cc-clean.csv')"
   ]
  },
  {
   "cell_type": "code",
   "execution_count": 34,
   "id": "85a342f8-c0af-4770-a1aa-e607c955992c",
   "metadata": {},
   "outputs": [],
   "source": [
    "# prompt_df[prompt_df.candidate=='Do you like playing Diablo II?']"
   ]
  },
  {
   "cell_type": "code",
   "execution_count": 35,
   "id": "0532280e-4a65-46ad-bce2-db3d446d077b",
   "metadata": {},
   "outputs": [],
   "source": [
    "# prompt_df = pd.read_csv('../test_files/viggo_test_custom25_output - viggo_test_custom_output.csv')\n"
   ]
  },
  {
   "cell_type": "code",
   "execution_count": 36,
   "id": "2bd79960-9896-473d-9b64-1eefe4a07608",
   "metadata": {},
   "outputs": [],
   "source": [
    "# prompt_df[['mr', 'generated']].info()"
   ]
  },
  {
   "cell_type": "code",
   "execution_count": 37,
   "id": "145982cc-32a8-48b4-be68-66ed0a8e160e",
   "metadata": {},
   "outputs": [],
   "source": [
    "# prompt_df = pd.read_csv('../test_files/viggo_test_custom25_output - viggo_test_custom_output.csv')\n",
    "\n",
    "# prompt_df = prompt_df[['mr','generated']].dropna().reset_index(drop=True)\n",
    "\n",
    "\n",
    "\n",
    "# def predict(col):\n",
    "#     df = prompt_df.copy()\n",
    "#     tokenized_data = tokenizer(df[col].values.tolist())\n",
    "#     tokenized_data = data_collator(tokenized_data)\n",
    "    \n",
    "    \n",
    "#     out = model(tokenized_data, mode = 'Test')\n",
    "#     probs = torch.nn.functional.softmax(out, dim = 1).detach().cpu().numpy()\n",
    "#     pred = out.argmax(dim = 1).cpu().numpy()\n",
    "#     pred = [train_dataset.itos[i] for i in pred]\n",
    "#     probs = [i.max() for i in probs]\n",
    "\n",
    "#     df[f'{col}_pred'] = 1\n",
    "#     df[f'{col}_prob'] = 1\n",
    "#     for i in range(len(df)):\n",
    "#         df.loc[i,f'{col}_pred'] = pred[i]\n",
    "#         df.loc[i,f'{col}_prob'] = probs[i]\n",
    "#     return df\n",
    "\n",
    "# prompt_df = predict('generated')\n",
    "# #prompt_df = predict('best_ref')\n",
    "# prompt_df['actual'] = prompt_df['mr'].apply(lambda x: x.split('|')[0].split('=')[0].strip())\n",
    "\n",
    "# print(prompt_df.apply(lambda x: 1 if x['candidate_pred'] == x['actual'] else 0,axis=1).value_counts())\n",
    "\n",
    "# prompt_df.to_csv('../test_files/viggo_test_custom25_output - viggo_test_custom_output.csv')"
   ]
  },
  {
   "cell_type": "code",
   "execution_count": 38,
   "id": "37736de9-ef10-464a-bbde-0c970b72e6ea",
   "metadata": {},
   "outputs": [
    {
     "name": "stdout",
     "output_type": "stream",
     "text": [
      "{'input_ids': tensor([[  101,  2091,  1128,  ...,     0,     0,     0],\n",
      "        [  101,  1573,   117,  ...,     0,     0,     0],\n",
      "        [  101,  3270, 11906,  ...,     0,     0,     0],\n",
      "        ...,\n",
      "        [  101,  2091,  1128,  ...,     0,     0,     0],\n",
      "        [  101,  4373,  1128,  ...,     0,     0,     0],\n",
      "        [  101,  5718,  1128,  ...,     0,     0,     0]]), 'token_type_ids': tensor([[0, 0, 0,  ..., 0, 0, 0],\n",
      "        [0, 0, 0,  ..., 0, 0, 0],\n",
      "        [0, 0, 0,  ..., 0, 0, 0],\n",
      "        ...,\n",
      "        [0, 0, 0,  ..., 0, 0, 0],\n",
      "        [0, 0, 0,  ..., 0, 0, 0],\n",
      "        [0, 0, 0,  ..., 0, 0, 0]]), 'attention_mask': tensor([[1, 1, 1,  ..., 0, 0, 0],\n",
      "        [1, 1, 1,  ..., 0, 0, 0],\n",
      "        [1, 1, 1,  ..., 0, 0, 0],\n",
      "        ...,\n",
      "        [1, 1, 1,  ..., 0, 0, 0],\n",
      "        [1, 1, 1,  ..., 0, 0, 0],\n",
      "        [1, 1, 1,  ..., 0, 0, 0]])}\n"
     ]
    },
    {
     "ename": "IndexError",
     "evalue": "too many indices for tensor of dimension 2",
     "output_type": "error",
     "traceback": [
      "\u001b[0;31m---------------------------------------------------------------------------\u001b[0m",
      "\u001b[0;31mIndexError\u001b[0m                                Traceback (most recent call last)",
      "\u001b[0;32m/tmp/ipykernel_136903/70121867.py\u001b[0m in \u001b[0;36m<module>\u001b[0;34m\u001b[0m\n\u001b[1;32m     29\u001b[0m     \u001b[0;32mreturn\u001b[0m \u001b[0mdf\u001b[0m\u001b[0;34m\u001b[0m\u001b[0;34m\u001b[0m\u001b[0m\n\u001b[1;32m     30\u001b[0m \u001b[0;34m\u001b[0m\u001b[0m\n\u001b[0;32m---> 31\u001b[0;31m \u001b[0mprompt_df\u001b[0m \u001b[0;34m=\u001b[0m \u001b[0mpredict\u001b[0m\u001b[0;34m(\u001b[0m\u001b[0;34m'generated'\u001b[0m\u001b[0;34m)\u001b[0m\u001b[0;34m\u001b[0m\u001b[0;34m\u001b[0m\u001b[0m\n\u001b[0m\u001b[1;32m     32\u001b[0m \u001b[0;31m#prompt_df = predict('best_ref')\u001b[0m\u001b[0;34m\u001b[0m\u001b[0;34m\u001b[0m\u001b[0m\n\u001b[1;32m     33\u001b[0m \u001b[0mprompt_df\u001b[0m\u001b[0;34m[\u001b[0m\u001b[0;34m'actual'\u001b[0m\u001b[0;34m]\u001b[0m \u001b[0;34m=\u001b[0m \u001b[0mprompt_df\u001b[0m\u001b[0;34m[\u001b[0m\u001b[0;34m'mr'\u001b[0m\u001b[0;34m]\u001b[0m\u001b[0;34m.\u001b[0m\u001b[0mapply\u001b[0m\u001b[0;34m(\u001b[0m\u001b[0;32mlambda\u001b[0m \u001b[0mx\u001b[0m\u001b[0;34m:\u001b[0m \u001b[0mx\u001b[0m\u001b[0;34m.\u001b[0m\u001b[0msplit\u001b[0m\u001b[0;34m(\u001b[0m\u001b[0;34m'|'\u001b[0m\u001b[0;34m)\u001b[0m\u001b[0;34m[\u001b[0m\u001b[0;36m0\u001b[0m\u001b[0;34m]\u001b[0m\u001b[0;34m.\u001b[0m\u001b[0msplit\u001b[0m\u001b[0;34m(\u001b[0m\u001b[0;34m'='\u001b[0m\u001b[0;34m)\u001b[0m\u001b[0;34m[\u001b[0m\u001b[0;36m0\u001b[0m\u001b[0;34m]\u001b[0m\u001b[0;34m.\u001b[0m\u001b[0mstrip\u001b[0m\u001b[0;34m(\u001b[0m\u001b[0;34m)\u001b[0m\u001b[0;34m)\u001b[0m\u001b[0;34m\u001b[0m\u001b[0;34m\u001b[0m\u001b[0m\n",
      "\u001b[0;32m/tmp/ipykernel_136903/70121867.py\u001b[0m in \u001b[0;36mpredict\u001b[0;34m(col)\u001b[0m\n\u001b[1;32m     13\u001b[0m \u001b[0;34m\u001b[0m\u001b[0m\n\u001b[1;32m     14\u001b[0m     \u001b[0;32mfor\u001b[0m \u001b[0mi\u001b[0m \u001b[0;32min\u001b[0m \u001b[0mrange\u001b[0m\u001b[0;34m(\u001b[0m\u001b[0;36m0\u001b[0m\u001b[0;34m,\u001b[0m\u001b[0mlen\u001b[0m\u001b[0;34m(\u001b[0m\u001b[0mtokenized_data\u001b[0m\u001b[0;34m[\u001b[0m\u001b[0;34m'input_ids'\u001b[0m\u001b[0;34m]\u001b[0m\u001b[0;34m)\u001b[0m\u001b[0;34m,\u001b[0m \u001b[0;36m100\u001b[0m\u001b[0;34m)\u001b[0m\u001b[0;34m:\u001b[0m\u001b[0;34m\u001b[0m\u001b[0;34m\u001b[0m\u001b[0m\n\u001b[0;32m---> 15\u001b[0;31m         \u001b[0mout\u001b[0m \u001b[0;34m=\u001b[0m \u001b[0mmodel\u001b[0m\u001b[0;34m(\u001b[0m\u001b[0mtokenized_data\u001b[0m\u001b[0;34m[\u001b[0m\u001b[0;34m'input_ids'\u001b[0m\u001b[0;34m]\u001b[0m\u001b[0;34m[\u001b[0m\u001b[0mi\u001b[0m\u001b[0;34m:\u001b[0m\u001b[0mi\u001b[0m\u001b[0;34m+\u001b[0m\u001b[0;36m100\u001b[0m\u001b[0;34m]\u001b[0m\u001b[0;34m,\u001b[0m \u001b[0mmode\u001b[0m \u001b[0;34m=\u001b[0m \u001b[0;34m'Test'\u001b[0m\u001b[0;34m)\u001b[0m\u001b[0;34m\u001b[0m\u001b[0;34m\u001b[0m\u001b[0m\n\u001b[0m\u001b[1;32m     16\u001b[0m         \u001b[0mouts\u001b[0m\u001b[0;34m.\u001b[0m\u001b[0mappend\u001b[0m\u001b[0;34m(\u001b[0m\u001b[0mout\u001b[0m\u001b[0;34m)\u001b[0m\u001b[0;34m\u001b[0m\u001b[0;34m\u001b[0m\u001b[0m\n\u001b[1;32m     17\u001b[0m \u001b[0;34m\u001b[0m\u001b[0m\n",
      "\u001b[0;32m/data/users/ugarg/anaconda3/envs/pytorenv/lib/python3.9/site-packages/torch/nn/modules/module.py\u001b[0m in \u001b[0;36m_call_impl\u001b[0;34m(self, *input, **kwargs)\u001b[0m\n\u001b[1;32m   1100\u001b[0m         if not (self._backward_hooks or self._forward_hooks or self._forward_pre_hooks or _global_backward_hooks\n\u001b[1;32m   1101\u001b[0m                 or _global_forward_hooks or _global_forward_pre_hooks):\n\u001b[0;32m-> 1102\u001b[0;31m             \u001b[0;32mreturn\u001b[0m \u001b[0mforward_call\u001b[0m\u001b[0;34m(\u001b[0m\u001b[0;34m*\u001b[0m\u001b[0minput\u001b[0m\u001b[0;34m,\u001b[0m \u001b[0;34m**\u001b[0m\u001b[0mkwargs\u001b[0m\u001b[0;34m)\u001b[0m\u001b[0;34m\u001b[0m\u001b[0;34m\u001b[0m\u001b[0m\n\u001b[0m\u001b[1;32m   1103\u001b[0m         \u001b[0;31m# Do not call functions when jit is used\u001b[0m\u001b[0;34m\u001b[0m\u001b[0;34m\u001b[0m\u001b[0m\n\u001b[1;32m   1104\u001b[0m         \u001b[0mfull_backward_hooks\u001b[0m\u001b[0;34m,\u001b[0m \u001b[0mnon_full_backward_hooks\u001b[0m \u001b[0;34m=\u001b[0m \u001b[0;34m[\u001b[0m\u001b[0;34m]\u001b[0m\u001b[0;34m,\u001b[0m \u001b[0;34m[\u001b[0m\u001b[0;34m]\u001b[0m\u001b[0;34m\u001b[0m\u001b[0;34m\u001b[0m\u001b[0m\n",
      "\u001b[0;32m/tmp/ipykernel_136903/163423098.py\u001b[0m in \u001b[0;36mforward\u001b[0;34m(self, batch, mode)\u001b[0m\n\u001b[1;32m     42\u001b[0m         \u001b[0mself\u001b[0m\u001b[0;34m.\u001b[0m\u001b[0mbase\u001b[0m\u001b[0;34m.\u001b[0m\u001b[0mto\u001b[0m\u001b[0;34m(\u001b[0m\u001b[0mself\u001b[0m\u001b[0;34m.\u001b[0m\u001b[0mdevice\u001b[0m\u001b[0;34m)\u001b[0m\u001b[0;34m\u001b[0m\u001b[0;34m\u001b[0m\u001b[0m\n\u001b[1;32m     43\u001b[0m         \u001b[0mself\u001b[0m\u001b[0;34m.\u001b[0m\u001b[0mfc\u001b[0m\u001b[0;34m.\u001b[0m\u001b[0mto\u001b[0m\u001b[0;34m(\u001b[0m\u001b[0mself\u001b[0m\u001b[0;34m.\u001b[0m\u001b[0mdevice\u001b[0m\u001b[0;34m)\u001b[0m\u001b[0;34m\u001b[0m\u001b[0;34m\u001b[0m\u001b[0m\n\u001b[0;32m---> 44\u001b[0;31m         _ , pools = self.base(input_ids=batch['input_ids'],\n\u001b[0m\u001b[1;32m     45\u001b[0m                       \u001b[0mattention_mask\u001b[0m\u001b[0;34m=\u001b[0m\u001b[0mbatch\u001b[0m\u001b[0;34m[\u001b[0m\u001b[0;34m'attention_mask'\u001b[0m\u001b[0;34m]\u001b[0m\u001b[0;34m,\u001b[0m\u001b[0;34m\u001b[0m\u001b[0;34m\u001b[0m\u001b[0m\n\u001b[1;32m     46\u001b[0m                       \u001b[0mtoken_type_ids\u001b[0m\u001b[0;34m=\u001b[0m\u001b[0mbatch\u001b[0m\u001b[0;34m[\u001b[0m\u001b[0;34m'token_type_ids'\u001b[0m\u001b[0;34m]\u001b[0m\u001b[0;34m,\u001b[0m\u001b[0;34m\u001b[0m\u001b[0;34m\u001b[0m\u001b[0m\n",
      "\u001b[0;31mIndexError\u001b[0m: too many indices for tensor of dimension 2"
     ]
    }
   ],
   "source": [
    "prompt_df = pd.read_csv('../test_files/viggo_test_custom25_output - viggo_test_custom_output.csv')\n",
    "\n",
    "prompt_df = prompt_df[['mr','generated']].dropna().reset_index(drop=True)\n",
    "\n",
    "\n",
    "\n",
    "def predict(col):\n",
    "    df = prompt_df.copy()\n",
    "    tokenized_data = tokenizer(df[col].values.tolist())\n",
    "    tokenized_data = data_collator(tokenized_data)\n",
    "    print(tokenized_data)\n",
    "    outs = []\n",
    "    \n",
    "    for i in range(0,len(tokenized_data['input_ids']), 100):\n",
    "        out = model(tokenized_data['input_ids'][i:i+100], mode = 'Test')\n",
    "        outs.append(out)\n",
    "    \n",
    "    \n",
    "    probs = torch.nn.functional.softmax(out, dim = 1).detach().cpu().numpy()\n",
    "    pred = out.argmax(dim = 1).cpu().numpy()\n",
    "    pred = [train_dataset.itos[i] for i in pred]\n",
    "    probs = [i.max() for i in probs]\n",
    "\n",
    "    df[f'{col}_pred'] = 1\n",
    "    df[f'{col}_prob'] = 1\n",
    "    for i in range(len(df)):\n",
    "        df.loc[i,f'{col}_pred'] = pred[i]\n",
    "        df.loc[i,f'{col}_prob'] = probs[i]\n",
    "    return df\n",
    "\n",
    "prompt_df = predict('generated')\n",
    "#prompt_df = predict('best_ref')\n",
    "prompt_df['actual'] = prompt_df['mr'].apply(lambda x: x.split('|')[0].split('=')[0].strip())\n",
    "\n",
    "print(prompt_df.apply(lambda x: 1 if x['candidate_pred'] == x['actual'] else 0,axis=1).value_counts())\n",
    "\n",
    "prompt_df.to_csv('../test_files/viggo_test_custom25_output - viggo_test_custom_output.csv')"
   ]
  },
  {
   "cell_type": "code",
   "execution_count": null,
   "id": "dee8581c-b932-4414-98f7-859f4e4738b8",
   "metadata": {},
   "outputs": [],
   "source": []
  },
  {
   "cell_type": "code",
   "execution_count": null,
   "id": "81c28da4-d764-44e1-8182-dca085df2d55",
   "metadata": {},
   "outputs": [],
   "source": []
  },
  {
   "cell_type": "code",
   "execution_count": null,
   "id": "9402920d-da63-466e-b38d-1cac81f274c7",
   "metadata": {},
   "outputs": [],
   "source": []
  },
  {
   "cell_type": "code",
   "execution_count": null,
   "id": "6ec4f82e-013b-499e-9206-c776a339d39a",
   "metadata": {},
   "outputs": [],
   "source": []
  },
  {
   "cell_type": "code",
   "execution_count": null,
   "id": "25d19a62-200d-4703-9efe-170b3c40250e",
   "metadata": {},
   "outputs": [],
   "source": []
  }
 ],
 "metadata": {
  "kernelspec": {
   "display_name": "Python 3",
   "language": "python",
   "name": "python3"
  },
  "language_info": {
   "codemirror_mode": {
    "name": "ipython",
    "version": 3
   },
   "file_extension": ".py",
   "mimetype": "text/x-python",
   "name": "python",
   "nbconvert_exporter": "python",
   "pygments_lexer": "ipython3",
   "version": "3.8.5"
  }
 },
 "nbformat": 4,
 "nbformat_minor": 5
}
